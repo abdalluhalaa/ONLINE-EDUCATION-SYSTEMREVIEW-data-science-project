{
  "cells": [
    {
      "cell_type": "code",
      "execution_count": null,
      "metadata": {
        "colab": {
          "base_uri": "https://localhost:8080/"
        },
        "id": "xdtIpKtKGtfN",
        "outputId": "92483b48-79b0-4cf8-aaa0-cd9722389585"
      },
      "outputs": [
        {
          "output_type": "stream",
          "name": "stdout",
          "text": [
            "Mounted at /content/drive\n"
          ]
        }
      ],
      "source": [
        "from google.colab import drive\n",
        "drive.mount('/content/drive')"
      ]
    },
    {
      "cell_type": "code",
      "execution_count": null,
      "metadata": {
        "id": "lUUF6NqAHFH8"
      },
      "outputs": [],
      "source": [
        "import numpy as np\n",
        "import pandas as pd\n",
        "import matplotlib.pyplot as plt\n",
        "from sklearn.preprocessing import LabelEncoder\n",
        "from sklearn.compose import ColumnTransformer\n",
        "from sklearn.preprocessing import OneHotEncoder\n",
        "from sklearn.linear_model import LogisticRegression\n",
        "from sklearn.model_selection import train_test_split\n",
        "from sklearn.preprocessing import StandardScaler\n",
        "from sklearn.metrics import confusion_matrix\n",
        "from sklearn.neighbors import KNeighborsClassifier\n",
        "import statsmodels.api as sm\n"
      ]
    },
    {
      "cell_type": "code",
      "execution_count": null,
      "metadata": {
        "colab": {
          "base_uri": "https://localhost:8080/",
          "height": 490
        },
        "id": "oWkPk6PtHJHI",
        "outputId": "efaef191-acb7-4657-b0d2-972b7a1fd8b2"
      },
      "outputs": [
        {
          "output_type": "execute_result",
          "data": {
            "text/plain": [
              "  Gender Home Location Level of Education  Age(Years)  Number of Subjects  \\\n",
              "0   Male         Urban     Under Graduate          18                  11   \n",
              "1   Male         Urban     Under Graduate          19                   7   \n",
              "2   Male         Rural     Under Graduate          18                   5   \n",
              "3   Male         Urban     Under Graduate          18                   5   \n",
              "4   Male         Rural     Under Graduate          18                   5   \n",
              "\n",
              "  Device type used to attend classes Economic status  Family size  \\\n",
              "0                             Laptop    Middle Class            4   \n",
              "1                             Laptop    Middle Class            4   \n",
              "2                             Laptop    Middle Class            5   \n",
              "3                             Laptop    Middle Class            4   \n",
              "4                             Laptop    Middle Class            4   \n",
              "\n",
              "   Internet facility in your locality Are you involved in any sports?  ...  \\\n",
              "0                                   5                              No  ...   \n",
              "1                                   1                             Yes  ...   \n",
              "2                                   2                              No  ...   \n",
              "3                                   4                             Yes  ...   \n",
              "4                                   3                              No  ...   \n",
              "\n",
              "  Time spent on social media (Hours)  Interested in Gaming?  \\\n",
              "0                                  1                     No   \n",
              "1                                  1                    Yes   \n",
              "2                                  1                     No   \n",
              "3                                  2                     No   \n",
              "4                                  2                    Yes   \n",
              "\n",
              "   Have separate room for studying?  Engaged in group studies?  \\\n",
              "0                                No                         No   \n",
              "1                               Yes                         No   \n",
              "2                               Yes                         No   \n",
              "3                                No                        yes   \n",
              "4                               Yes                        yes   \n",
              "\n",
              "  Average marks scored before pandemic in traditional classroom  \\\n",
              "0                                             91-100              \n",
              "1                                             91-100              \n",
              "2                                              71-80              \n",
              "3                                             91-100              \n",
              "4                                              81-90              \n",
              "\n",
              "  Your interaction in online mode  \\\n",
              "0                               1   \n",
              "1                               1   \n",
              "2                               1   \n",
              "3                               1   \n",
              "4                               3   \n",
              "\n",
              "  Clearing doubts with faculties in online mode Interested in?  \\\n",
              "0                                             1      Practical   \n",
              "1                                             1         Theory   \n",
              "2                                             1           Both   \n",
              "3                                             2         Theory   \n",
              "4                                             3           Both   \n",
              "\n",
              "   Performance in online  Your level of satisfaction in Online Education  \n",
              "0                      6                                         Average  \n",
              "1                      3                                             Bad  \n",
              "2                      6                                             Bad  \n",
              "3                      4                                             Bad  \n",
              "4                      6                                         Average  \n",
              "\n",
              "[5 rows x 23 columns]"
            ],
            "text/html": [
              "\n",
              "  <div id=\"df-72d21dfe-a318-4487-b9c4-16005fc553d0\">\n",
              "    <div class=\"colab-df-container\">\n",
              "      <div>\n",
              "<style scoped>\n",
              "    .dataframe tbody tr th:only-of-type {\n",
              "        vertical-align: middle;\n",
              "    }\n",
              "\n",
              "    .dataframe tbody tr th {\n",
              "        vertical-align: top;\n",
              "    }\n",
              "\n",
              "    .dataframe thead th {\n",
              "        text-align: right;\n",
              "    }\n",
              "</style>\n",
              "<table border=\"1\" class=\"dataframe\">\n",
              "  <thead>\n",
              "    <tr style=\"text-align: right;\">\n",
              "      <th></th>\n",
              "      <th>Gender</th>\n",
              "      <th>Home Location</th>\n",
              "      <th>Level of Education</th>\n",
              "      <th>Age(Years)</th>\n",
              "      <th>Number of Subjects</th>\n",
              "      <th>Device type used to attend classes</th>\n",
              "      <th>Economic status</th>\n",
              "      <th>Family size</th>\n",
              "      <th>Internet facility in your locality</th>\n",
              "      <th>Are you involved in any sports?</th>\n",
              "      <th>...</th>\n",
              "      <th>Time spent on social media (Hours)</th>\n",
              "      <th>Interested in Gaming?</th>\n",
              "      <th>Have separate room for studying?</th>\n",
              "      <th>Engaged in group studies?</th>\n",
              "      <th>Average marks scored before pandemic in traditional classroom</th>\n",
              "      <th>Your interaction in online mode</th>\n",
              "      <th>Clearing doubts with faculties in online mode</th>\n",
              "      <th>Interested in?</th>\n",
              "      <th>Performance in online</th>\n",
              "      <th>Your level of satisfaction in Online Education</th>\n",
              "    </tr>\n",
              "  </thead>\n",
              "  <tbody>\n",
              "    <tr>\n",
              "      <th>0</th>\n",
              "      <td>Male</td>\n",
              "      <td>Urban</td>\n",
              "      <td>Under Graduate</td>\n",
              "      <td>18</td>\n",
              "      <td>11</td>\n",
              "      <td>Laptop</td>\n",
              "      <td>Middle Class</td>\n",
              "      <td>4</td>\n",
              "      <td>5</td>\n",
              "      <td>No</td>\n",
              "      <td>...</td>\n",
              "      <td>1</td>\n",
              "      <td>No</td>\n",
              "      <td>No</td>\n",
              "      <td>No</td>\n",
              "      <td>91-100</td>\n",
              "      <td>1</td>\n",
              "      <td>1</td>\n",
              "      <td>Practical</td>\n",
              "      <td>6</td>\n",
              "      <td>Average</td>\n",
              "    </tr>\n",
              "    <tr>\n",
              "      <th>1</th>\n",
              "      <td>Male</td>\n",
              "      <td>Urban</td>\n",
              "      <td>Under Graduate</td>\n",
              "      <td>19</td>\n",
              "      <td>7</td>\n",
              "      <td>Laptop</td>\n",
              "      <td>Middle Class</td>\n",
              "      <td>4</td>\n",
              "      <td>1</td>\n",
              "      <td>Yes</td>\n",
              "      <td>...</td>\n",
              "      <td>1</td>\n",
              "      <td>Yes</td>\n",
              "      <td>Yes</td>\n",
              "      <td>No</td>\n",
              "      <td>91-100</td>\n",
              "      <td>1</td>\n",
              "      <td>1</td>\n",
              "      <td>Theory</td>\n",
              "      <td>3</td>\n",
              "      <td>Bad</td>\n",
              "    </tr>\n",
              "    <tr>\n",
              "      <th>2</th>\n",
              "      <td>Male</td>\n",
              "      <td>Rural</td>\n",
              "      <td>Under Graduate</td>\n",
              "      <td>18</td>\n",
              "      <td>5</td>\n",
              "      <td>Laptop</td>\n",
              "      <td>Middle Class</td>\n",
              "      <td>5</td>\n",
              "      <td>2</td>\n",
              "      <td>No</td>\n",
              "      <td>...</td>\n",
              "      <td>1</td>\n",
              "      <td>No</td>\n",
              "      <td>Yes</td>\n",
              "      <td>No</td>\n",
              "      <td>71-80</td>\n",
              "      <td>1</td>\n",
              "      <td>1</td>\n",
              "      <td>Both</td>\n",
              "      <td>6</td>\n",
              "      <td>Bad</td>\n",
              "    </tr>\n",
              "    <tr>\n",
              "      <th>3</th>\n",
              "      <td>Male</td>\n",
              "      <td>Urban</td>\n",
              "      <td>Under Graduate</td>\n",
              "      <td>18</td>\n",
              "      <td>5</td>\n",
              "      <td>Laptop</td>\n",
              "      <td>Middle Class</td>\n",
              "      <td>4</td>\n",
              "      <td>4</td>\n",
              "      <td>Yes</td>\n",
              "      <td>...</td>\n",
              "      <td>2</td>\n",
              "      <td>No</td>\n",
              "      <td>No</td>\n",
              "      <td>yes</td>\n",
              "      <td>91-100</td>\n",
              "      <td>1</td>\n",
              "      <td>2</td>\n",
              "      <td>Theory</td>\n",
              "      <td>4</td>\n",
              "      <td>Bad</td>\n",
              "    </tr>\n",
              "    <tr>\n",
              "      <th>4</th>\n",
              "      <td>Male</td>\n",
              "      <td>Rural</td>\n",
              "      <td>Under Graduate</td>\n",
              "      <td>18</td>\n",
              "      <td>5</td>\n",
              "      <td>Laptop</td>\n",
              "      <td>Middle Class</td>\n",
              "      <td>4</td>\n",
              "      <td>3</td>\n",
              "      <td>No</td>\n",
              "      <td>...</td>\n",
              "      <td>2</td>\n",
              "      <td>Yes</td>\n",
              "      <td>Yes</td>\n",
              "      <td>yes</td>\n",
              "      <td>81-90</td>\n",
              "      <td>3</td>\n",
              "      <td>3</td>\n",
              "      <td>Both</td>\n",
              "      <td>6</td>\n",
              "      <td>Average</td>\n",
              "    </tr>\n",
              "  </tbody>\n",
              "</table>\n",
              "<p>5 rows × 23 columns</p>\n",
              "</div>\n",
              "      <button class=\"colab-df-convert\" onclick=\"convertToInteractive('df-72d21dfe-a318-4487-b9c4-16005fc553d0')\"\n",
              "              title=\"Convert this dataframe to an interactive table.\"\n",
              "              style=\"display:none;\">\n",
              "        \n",
              "  <svg xmlns=\"http://www.w3.org/2000/svg\" height=\"24px\"viewBox=\"0 0 24 24\"\n",
              "       width=\"24px\">\n",
              "    <path d=\"M0 0h24v24H0V0z\" fill=\"none\"/>\n",
              "    <path d=\"M18.56 5.44l.94 2.06.94-2.06 2.06-.94-2.06-.94-.94-2.06-.94 2.06-2.06.94zm-11 1L8.5 8.5l.94-2.06 2.06-.94-2.06-.94L8.5 2.5l-.94 2.06-2.06.94zm10 10l.94 2.06.94-2.06 2.06-.94-2.06-.94-.94-2.06-.94 2.06-2.06.94z\"/><path d=\"M17.41 7.96l-1.37-1.37c-.4-.4-.92-.59-1.43-.59-.52 0-1.04.2-1.43.59L10.3 9.45l-7.72 7.72c-.78.78-.78 2.05 0 2.83L4 21.41c.39.39.9.59 1.41.59.51 0 1.02-.2 1.41-.59l7.78-7.78 2.81-2.81c.8-.78.8-2.07 0-2.86zM5.41 20L4 18.59l7.72-7.72 1.47 1.35L5.41 20z\"/>\n",
              "  </svg>\n",
              "      </button>\n",
              "      \n",
              "  <style>\n",
              "    .colab-df-container {\n",
              "      display:flex;\n",
              "      flex-wrap:wrap;\n",
              "      gap: 12px;\n",
              "    }\n",
              "\n",
              "    .colab-df-convert {\n",
              "      background-color: #E8F0FE;\n",
              "      border: none;\n",
              "      border-radius: 50%;\n",
              "      cursor: pointer;\n",
              "      display: none;\n",
              "      fill: #1967D2;\n",
              "      height: 32px;\n",
              "      padding: 0 0 0 0;\n",
              "      width: 32px;\n",
              "    }\n",
              "\n",
              "    .colab-df-convert:hover {\n",
              "      background-color: #E2EBFA;\n",
              "      box-shadow: 0px 1px 2px rgba(60, 64, 67, 0.3), 0px 1px 3px 1px rgba(60, 64, 67, 0.15);\n",
              "      fill: #174EA6;\n",
              "    }\n",
              "\n",
              "    [theme=dark] .colab-df-convert {\n",
              "      background-color: #3B4455;\n",
              "      fill: #D2E3FC;\n",
              "    }\n",
              "\n",
              "    [theme=dark] .colab-df-convert:hover {\n",
              "      background-color: #434B5C;\n",
              "      box-shadow: 0px 1px 3px 1px rgba(0, 0, 0, 0.15);\n",
              "      filter: drop-shadow(0px 1px 2px rgba(0, 0, 0, 0.3));\n",
              "      fill: #FFFFFF;\n",
              "    }\n",
              "  </style>\n",
              "\n",
              "      <script>\n",
              "        const buttonEl =\n",
              "          document.querySelector('#df-72d21dfe-a318-4487-b9c4-16005fc553d0 button.colab-df-convert');\n",
              "        buttonEl.style.display =\n",
              "          google.colab.kernel.accessAllowed ? 'block' : 'none';\n",
              "\n",
              "        async function convertToInteractive(key) {\n",
              "          const element = document.querySelector('#df-72d21dfe-a318-4487-b9c4-16005fc553d0');\n",
              "          const dataTable =\n",
              "            await google.colab.kernel.invokeFunction('convertToInteractive',\n",
              "                                                     [key], {});\n",
              "          if (!dataTable) return;\n",
              "\n",
              "          const docLinkHtml = 'Like what you see? Visit the ' +\n",
              "            '<a target=\"_blank\" href=https://colab.research.google.com/notebooks/data_table.ipynb>data table notebook</a>'\n",
              "            + ' to learn more about interactive tables.';\n",
              "          element.innerHTML = '';\n",
              "          dataTable['output_type'] = 'display_data';\n",
              "          await google.colab.output.renderOutput(dataTable, element);\n",
              "          const docLink = document.createElement('div');\n",
              "          docLink.innerHTML = docLinkHtml;\n",
              "          element.appendChild(docLink);\n",
              "        }\n",
              "      </script>\n",
              "    </div>\n",
              "  </div>\n",
              "  "
            ]
          },
          "metadata": {},
          "execution_count": 121
        }
      ],
      "source": [
        "dataset = pd.read_csv(\"/content/drive/MyDrive/ONLINE EDUCATION SYSTEM REVIEW.csv\")\n",
        "dataset.head()"
      ]
    },
    {
      "cell_type": "code",
      "execution_count": null,
      "metadata": {
        "colab": {
          "base_uri": "https://localhost:8080/"
        },
        "id": "mjsRsGxPHsMb",
        "outputId": "c4fa755b-9479-4fd4-f9a4-9572ad97b40a"
      },
      "outputs": [
        {
          "output_type": "stream",
          "name": "stdout",
          "text": [
            "null values : 0\n",
            "Gender                                                           0\n",
            "Home Location                                                    0\n",
            "Level of Education                                               0\n",
            "Age(Years)                                                       0\n",
            "Number of Subjects                                               0\n",
            "Device type used to attend classes                               0\n",
            "Economic status                                                  0\n",
            "Family size                                                      0\n",
            "Internet facility in your locality                               0\n",
            "Are you involved in any sports?                                  0\n",
            "Do elderly people monitor you?                                   0\n",
            "Study time (Hours)                                               0\n",
            "Sleep time (Hours)                                               0\n",
            "Time spent on social media (Hours)                               0\n",
            "Interested in Gaming?                                            0\n",
            "Have separate room for studying?                                 0\n",
            "Engaged in group studies?                                        0\n",
            "Average marks scored before pandemic in traditional classroom    0\n",
            "Your interaction in online mode                                  0\n",
            "Clearing doubts with faculties in online mode                    0\n",
            "Interested in?                                                   0\n",
            "Performance in online                                            0\n",
            "Your level of satisfaction in Online Education                   0\n",
            "dtype: int64\n",
            "<class 'pandas.core.frame.DataFrame'>\n",
            "RangeIndex: 1033 entries, 0 to 1032\n",
            "Data columns (total 23 columns):\n",
            " #   Column                                                         Non-Null Count  Dtype \n",
            "---  ------                                                         --------------  ----- \n",
            " 0   Gender                                                         1033 non-null   object\n",
            " 1   Home Location                                                  1033 non-null   object\n",
            " 2   Level of Education                                             1033 non-null   object\n",
            " 3   Age(Years)                                                     1033 non-null   int64 \n",
            " 4   Number of Subjects                                             1033 non-null   int64 \n",
            " 5   Device type used to attend classes                             1033 non-null   object\n",
            " 6   Economic status                                                1033 non-null   object\n",
            " 7   Family size                                                    1033 non-null   int64 \n",
            " 8   Internet facility in your locality                             1033 non-null   int64 \n",
            " 9   Are you involved in any sports?                                1033 non-null   object\n",
            " 10  Do elderly people monitor you?                                 1033 non-null   object\n",
            " 11  Study time (Hours)                                             1033 non-null   int64 \n",
            " 12  Sleep time (Hours)                                             1033 non-null   int64 \n",
            " 13  Time spent on social media (Hours)                             1033 non-null   int64 \n",
            " 14  Interested in Gaming?                                          1033 non-null   object\n",
            " 15  Have separate room for studying?                               1033 non-null   object\n",
            " 16  Engaged in group studies?                                      1033 non-null   object\n",
            " 17  Average marks scored before pandemic in traditional classroom  1033 non-null   object\n",
            " 18  Your interaction in online mode                                1033 non-null   int64 \n",
            " 19  Clearing doubts with faculties in online mode                  1033 non-null   int64 \n",
            " 20  Interested in?                                                 1033 non-null   object\n",
            " 21  Performance in online                                          1033 non-null   int64 \n",
            " 22  Your level of satisfaction in Online Education                 1033 non-null   object\n",
            "dtypes: int64(10), object(13)\n",
            "memory usage: 185.7+ KB\n"
          ]
        }
      ],
      "source": [
        "NULL = dataset.isnull().sum().sum()\n",
        "print(\"null values :\" , NULL)\n",
        "NULL = dataset.isnull().sum()\n",
        "print(NULL)\n",
        "dataset.info()"
      ]
    },
    {
      "cell_type": "code",
      "execution_count": null,
      "metadata": {
        "colab": {
          "base_uri": "https://localhost:8080/",
          "height": 451
        },
        "id": "Wq3lGyXtj_EB",
        "outputId": "23827f6b-c59d-42e0-a707-3f56c95771f2"
      },
      "outputs": [
        {
          "output_type": "execute_result",
          "data": {
            "text/plain": [
              "        Age(Years)  Number of Subjects  Family size  \\\n",
              "count  1033.000000          1033.00000  1033.000000   \n",
              "mean     19.798645             7.03485     4.413359   \n",
              "std       3.199158             2.81034     1.236750   \n",
              "min       9.000000             1.00000     2.000000   \n",
              "25%      18.000000             6.00000     4.000000   \n",
              "50%      19.000000             7.00000     4.000000   \n",
              "75%      20.000000             8.00000     5.000000   \n",
              "max      40.000000            20.00000    10.000000   \n",
              "\n",
              "       Internet facility in your locality  Study time (Hours)  \\\n",
              "count                         1033.000000         1033.000000   \n",
              "mean                             3.586641            4.325266   \n",
              "std                              1.026063            2.134233   \n",
              "min                              1.000000            1.000000   \n",
              "25%                              3.000000            3.000000   \n",
              "50%                              4.000000            4.000000   \n",
              "75%                              4.000000            6.000000   \n",
              "max                              5.000000           10.000000   \n",
              "\n",
              "       Sleep time (Hours)  Time spent on social media (Hours)  \\\n",
              "count         1033.000000                         1033.000000   \n",
              "mean             6.947725                            2.636980   \n",
              "std              1.324039                            1.859625   \n",
              "min              1.000000                            1.000000   \n",
              "25%              6.000000                            1.000000   \n",
              "50%              7.000000                            2.000000   \n",
              "75%              8.000000                            3.000000   \n",
              "max             10.000000                           10.000000   \n",
              "\n",
              "       Your interaction in online mode  \\\n",
              "count                      1033.000000   \n",
              "mean                          2.930300   \n",
              "std                           1.105387   \n",
              "min                           1.000000   \n",
              "25%                           2.000000   \n",
              "50%                           3.000000   \n",
              "75%                           4.000000   \n",
              "max                           5.000000   \n",
              "\n",
              "       Clearing doubts with faculties in online mode  Performance in online  \n",
              "count                                    1033.000000            1033.000000  \n",
              "mean                                        2.833495               6.696031  \n",
              "std                                         1.163629               1.920048  \n",
              "min                                         1.000000               2.000000  \n",
              "25%                                         2.000000               6.000000  \n",
              "50%                                         3.000000               7.000000  \n",
              "75%                                         4.000000               8.000000  \n",
              "max                                         5.000000              10.000000  "
            ],
            "text/html": [
              "\n",
              "  <div id=\"df-19d10ac5-f62a-4cf2-b792-6e5c282024d2\">\n",
              "    <div class=\"colab-df-container\">\n",
              "      <div>\n",
              "<style scoped>\n",
              "    .dataframe tbody tr th:only-of-type {\n",
              "        vertical-align: middle;\n",
              "    }\n",
              "\n",
              "    .dataframe tbody tr th {\n",
              "        vertical-align: top;\n",
              "    }\n",
              "\n",
              "    .dataframe thead th {\n",
              "        text-align: right;\n",
              "    }\n",
              "</style>\n",
              "<table border=\"1\" class=\"dataframe\">\n",
              "  <thead>\n",
              "    <tr style=\"text-align: right;\">\n",
              "      <th></th>\n",
              "      <th>Age(Years)</th>\n",
              "      <th>Number of Subjects</th>\n",
              "      <th>Family size</th>\n",
              "      <th>Internet facility in your locality</th>\n",
              "      <th>Study time (Hours)</th>\n",
              "      <th>Sleep time (Hours)</th>\n",
              "      <th>Time spent on social media (Hours)</th>\n",
              "      <th>Your interaction in online mode</th>\n",
              "      <th>Clearing doubts with faculties in online mode</th>\n",
              "      <th>Performance in online</th>\n",
              "    </tr>\n",
              "  </thead>\n",
              "  <tbody>\n",
              "    <tr>\n",
              "      <th>count</th>\n",
              "      <td>1033.000000</td>\n",
              "      <td>1033.00000</td>\n",
              "      <td>1033.000000</td>\n",
              "      <td>1033.000000</td>\n",
              "      <td>1033.000000</td>\n",
              "      <td>1033.000000</td>\n",
              "      <td>1033.000000</td>\n",
              "      <td>1033.000000</td>\n",
              "      <td>1033.000000</td>\n",
              "      <td>1033.000000</td>\n",
              "    </tr>\n",
              "    <tr>\n",
              "      <th>mean</th>\n",
              "      <td>19.798645</td>\n",
              "      <td>7.03485</td>\n",
              "      <td>4.413359</td>\n",
              "      <td>3.586641</td>\n",
              "      <td>4.325266</td>\n",
              "      <td>6.947725</td>\n",
              "      <td>2.636980</td>\n",
              "      <td>2.930300</td>\n",
              "      <td>2.833495</td>\n",
              "      <td>6.696031</td>\n",
              "    </tr>\n",
              "    <tr>\n",
              "      <th>std</th>\n",
              "      <td>3.199158</td>\n",
              "      <td>2.81034</td>\n",
              "      <td>1.236750</td>\n",
              "      <td>1.026063</td>\n",
              "      <td>2.134233</td>\n",
              "      <td>1.324039</td>\n",
              "      <td>1.859625</td>\n",
              "      <td>1.105387</td>\n",
              "      <td>1.163629</td>\n",
              "      <td>1.920048</td>\n",
              "    </tr>\n",
              "    <tr>\n",
              "      <th>min</th>\n",
              "      <td>9.000000</td>\n",
              "      <td>1.00000</td>\n",
              "      <td>2.000000</td>\n",
              "      <td>1.000000</td>\n",
              "      <td>1.000000</td>\n",
              "      <td>1.000000</td>\n",
              "      <td>1.000000</td>\n",
              "      <td>1.000000</td>\n",
              "      <td>1.000000</td>\n",
              "      <td>2.000000</td>\n",
              "    </tr>\n",
              "    <tr>\n",
              "      <th>25%</th>\n",
              "      <td>18.000000</td>\n",
              "      <td>6.00000</td>\n",
              "      <td>4.000000</td>\n",
              "      <td>3.000000</td>\n",
              "      <td>3.000000</td>\n",
              "      <td>6.000000</td>\n",
              "      <td>1.000000</td>\n",
              "      <td>2.000000</td>\n",
              "      <td>2.000000</td>\n",
              "      <td>6.000000</td>\n",
              "    </tr>\n",
              "    <tr>\n",
              "      <th>50%</th>\n",
              "      <td>19.000000</td>\n",
              "      <td>7.00000</td>\n",
              "      <td>4.000000</td>\n",
              "      <td>4.000000</td>\n",
              "      <td>4.000000</td>\n",
              "      <td>7.000000</td>\n",
              "      <td>2.000000</td>\n",
              "      <td>3.000000</td>\n",
              "      <td>3.000000</td>\n",
              "      <td>7.000000</td>\n",
              "    </tr>\n",
              "    <tr>\n",
              "      <th>75%</th>\n",
              "      <td>20.000000</td>\n",
              "      <td>8.00000</td>\n",
              "      <td>5.000000</td>\n",
              "      <td>4.000000</td>\n",
              "      <td>6.000000</td>\n",
              "      <td>8.000000</td>\n",
              "      <td>3.000000</td>\n",
              "      <td>4.000000</td>\n",
              "      <td>4.000000</td>\n",
              "      <td>8.000000</td>\n",
              "    </tr>\n",
              "    <tr>\n",
              "      <th>max</th>\n",
              "      <td>40.000000</td>\n",
              "      <td>20.00000</td>\n",
              "      <td>10.000000</td>\n",
              "      <td>5.000000</td>\n",
              "      <td>10.000000</td>\n",
              "      <td>10.000000</td>\n",
              "      <td>10.000000</td>\n",
              "      <td>5.000000</td>\n",
              "      <td>5.000000</td>\n",
              "      <td>10.000000</td>\n",
              "    </tr>\n",
              "  </tbody>\n",
              "</table>\n",
              "</div>\n",
              "      <button class=\"colab-df-convert\" onclick=\"convertToInteractive('df-19d10ac5-f62a-4cf2-b792-6e5c282024d2')\"\n",
              "              title=\"Convert this dataframe to an interactive table.\"\n",
              "              style=\"display:none;\">\n",
              "        \n",
              "  <svg xmlns=\"http://www.w3.org/2000/svg\" height=\"24px\"viewBox=\"0 0 24 24\"\n",
              "       width=\"24px\">\n",
              "    <path d=\"M0 0h24v24H0V0z\" fill=\"none\"/>\n",
              "    <path d=\"M18.56 5.44l.94 2.06.94-2.06 2.06-.94-2.06-.94-.94-2.06-.94 2.06-2.06.94zm-11 1L8.5 8.5l.94-2.06 2.06-.94-2.06-.94L8.5 2.5l-.94 2.06-2.06.94zm10 10l.94 2.06.94-2.06 2.06-.94-2.06-.94-.94-2.06-.94 2.06-2.06.94z\"/><path d=\"M17.41 7.96l-1.37-1.37c-.4-.4-.92-.59-1.43-.59-.52 0-1.04.2-1.43.59L10.3 9.45l-7.72 7.72c-.78.78-.78 2.05 0 2.83L4 21.41c.39.39.9.59 1.41.59.51 0 1.02-.2 1.41-.59l7.78-7.78 2.81-2.81c.8-.78.8-2.07 0-2.86zM5.41 20L4 18.59l7.72-7.72 1.47 1.35L5.41 20z\"/>\n",
              "  </svg>\n",
              "      </button>\n",
              "      \n",
              "  <style>\n",
              "    .colab-df-container {\n",
              "      display:flex;\n",
              "      flex-wrap:wrap;\n",
              "      gap: 12px;\n",
              "    }\n",
              "\n",
              "    .colab-df-convert {\n",
              "      background-color: #E8F0FE;\n",
              "      border: none;\n",
              "      border-radius: 50%;\n",
              "      cursor: pointer;\n",
              "      display: none;\n",
              "      fill: #1967D2;\n",
              "      height: 32px;\n",
              "      padding: 0 0 0 0;\n",
              "      width: 32px;\n",
              "    }\n",
              "\n",
              "    .colab-df-convert:hover {\n",
              "      background-color: #E2EBFA;\n",
              "      box-shadow: 0px 1px 2px rgba(60, 64, 67, 0.3), 0px 1px 3px 1px rgba(60, 64, 67, 0.15);\n",
              "      fill: #174EA6;\n",
              "    }\n",
              "\n",
              "    [theme=dark] .colab-df-convert {\n",
              "      background-color: #3B4455;\n",
              "      fill: #D2E3FC;\n",
              "    }\n",
              "\n",
              "    [theme=dark] .colab-df-convert:hover {\n",
              "      background-color: #434B5C;\n",
              "      box-shadow: 0px 1px 3px 1px rgba(0, 0, 0, 0.15);\n",
              "      filter: drop-shadow(0px 1px 2px rgba(0, 0, 0, 0.3));\n",
              "      fill: #FFFFFF;\n",
              "    }\n",
              "  </style>\n",
              "\n",
              "      <script>\n",
              "        const buttonEl =\n",
              "          document.querySelector('#df-19d10ac5-f62a-4cf2-b792-6e5c282024d2 button.colab-df-convert');\n",
              "        buttonEl.style.display =\n",
              "          google.colab.kernel.accessAllowed ? 'block' : 'none';\n",
              "\n",
              "        async function convertToInteractive(key) {\n",
              "          const element = document.querySelector('#df-19d10ac5-f62a-4cf2-b792-6e5c282024d2');\n",
              "          const dataTable =\n",
              "            await google.colab.kernel.invokeFunction('convertToInteractive',\n",
              "                                                     [key], {});\n",
              "          if (!dataTable) return;\n",
              "\n",
              "          const docLinkHtml = 'Like what you see? Visit the ' +\n",
              "            '<a target=\"_blank\" href=https://colab.research.google.com/notebooks/data_table.ipynb>data table notebook</a>'\n",
              "            + ' to learn more about interactive tables.';\n",
              "          element.innerHTML = '';\n",
              "          dataTable['output_type'] = 'display_data';\n",
              "          await google.colab.output.renderOutput(dataTable, element);\n",
              "          const docLink = document.createElement('div');\n",
              "          docLink.innerHTML = docLinkHtml;\n",
              "          element.appendChild(docLink);\n",
              "        }\n",
              "      </script>\n",
              "    </div>\n",
              "  </div>\n",
              "  "
            ]
          },
          "metadata": {},
          "execution_count": 13
        }
      ],
      "source": [
        "dataset.describe()"
      ]
    },
    {
      "cell_type": "markdown",
      "source": [
        "# ONLINE EDUCATION SYSTEM REVIEW"
      ],
      "metadata": {
        "id": "yUZPN69yrKda"
      }
    },
    {
      "cell_type": "markdown",
      "source": [
        "## Gender"
      ],
      "metadata": {
        "id": "CrePSy2zqBw2"
      }
    },
    {
      "cell_type": "code",
      "execution_count": null,
      "metadata": {
        "colab": {
          "base_uri": "https://localhost:8080/"
        },
        "id": "77r9-ttymXQp",
        "outputId": "7c3c6d83-65e6-4929-fc79-56168a2fc16b"
      },
      "outputs": [
        {
          "output_type": "stream",
          "name": "stdout",
          "text": [
            "Gender :\n",
            "Male :  59.43852855759923 %\n",
            "Female :  40.56147144240077 %\n",
            "Numbre of Male :  614\n",
            "Numbre of Female :  419\n"
          ]
        }
      ],
      "source": [
        "print(\"Gender :\")\n",
        "gend = dataset.Gender.value_counts()\n",
        "print(\"Male : \", gend[0] / (gend[1] + gend[0]) * 100, \"%\")\n",
        "print(\"Female : \", gend[1] / (gend[1] + gend[0]) * 100, \"%\")\n",
        "print(\"Numbre of Male : \", gend[0])\n",
        "print(\"Numbre of Female : \", gend[1])\n"
      ]
    },
    {
      "cell_type": "code",
      "source": [
        "data = dataset\n",
        " \n",
        "plt.hist(data['Gender'])\n",
        " \n",
        "plt.title(\"Histogram for Gender\")\n",
        " \n",
        "plt.show()"
      ],
      "metadata": {
        "colab": {
          "base_uri": "https://localhost:8080/",
          "height": 281
        },
        "id": "9pIx36TZnFKN",
        "outputId": "d2d8ae29-2e1e-4b12-df31-bc7f55e615d6"
      },
      "execution_count": null,
      "outputs": [
        {
          "output_type": "display_data",
          "data": {
            "text/plain": [
              "<Figure size 432x288 with 1 Axes>"
            ],
            "image/png": "[encoded data removed]"
          },
          "metadata": {
            "needs_background": "light"
          }
        }
      ]
    },
    {
      "cell_type": "markdown",
      "source": [
        "## Home Location "
      ],
      "metadata": {
        "id": "C7-rZLoqqErE"
      }
    },
    {
      "cell_type": "code",
      "execution_count": null,
      "metadata": {
        "colab": {
          "base_uri": "https://localhost:8080/"
        },
        "id": "-CGkauRgqxi4",
        "outputId": "a54bf38c-9f44-4112-a3be-ae7fbf790cd1"
      },
      "outputs": [
        {
          "output_type": "stream",
          "name": "stdout",
          "text": [
            "Home Location :\n",
            "Urban :  65.73088092933205 %\n",
            "Rural :  34.269119070667955 %\n",
            "Numbre of Urban 679\n",
            "Numbre of Rural 354\n"
          ]
        }
      ],
      "source": [
        "print(\"Home Location :\")\n",
        "HOME = dataset['Home Location'].value_counts()\n",
        "print(\"Urban : \", HOME[0] / (HOME[1] + HOME[0]) * 100, \"%\")\n",
        "print(\"Rural : \", HOME[1] / (HOME[1] + HOME[0]) * 100, \"%\")\n",
        "print(\"Numbre of Urban\", HOME[0])\n",
        "print(\"Numbre of Rural\", HOME[1])"
      ]
    },
    {
      "cell_type": "code",
      "source": [
        "data = dataset\n",
        " \n",
        "plt.hist(data['Home Location'])\n",
        " \n",
        "plt.title(\"Histogram for Home Location\")\n",
        " \n",
        "plt.show()"
      ],
      "metadata": {
        "colab": {
          "base_uri": "https://localhost:8080/",
          "height": 452
        },
        "id": "xBy8uYzGoXT4",
        "outputId": "297bb718-5c10-4874-c1d5-d20906565e06"
      },
      "execution_count": null,
      "outputs": [
        {
          "output_type": "display_data",
          "data": {
            "text/plain": [
              "<Figure size 640x480 with 1 Axes>"
            ],
            "image/png": "[encoded data removed]"
          },
          "metadata": {}
        }
      ]
    },
    {
      "cell_type": "markdown",
      "source": [
        "## Level of Education"
      ],
      "metadata": {
        "id": "FblInzxSqSKm"
      }
    },
    {
      "cell_type": "code",
      "execution_count": null,
      "metadata": {
        "colab": {
          "base_uri": "https://localhost:8080/"
        },
        "id": "zFSduwScr3lc",
        "outputId": "ecd1a99e-680c-42de-db6e-a264f50efde7"
      },
      "outputs": [
        {
          "output_type": "stream",
          "name": "stdout",
          "text": [
            "Level of Education :\n",
            "Under Graduate :  79.09002904162634 %\n",
            "Post Graduate :  12.487899322362052 %\n",
            "Other  :  8.422071636011616 %\n",
            "Numbre of Under Graduate 817\n",
            "Numbre of Post Graduate 129\n",
            "Numbre of Other  87\n"
          ]
        }
      ],
      "source": [
        "print(\"Level of Education :\")\n",
        "LEVEL = dataset['Level of Education'].value_counts()\n",
        "print(\"Under Graduate : \", LEVEL[0] / (LEVEL[2] + LEVEL[1] + LEVEL[0]) * 100, \"%\")\n",
        "print(\"Post Graduate : \", LEVEL[1] /  (LEVEL[2] + LEVEL[1] + LEVEL[0]) * 100, \"%\")\n",
        "print(\"Other  : \", LEVEL[2] /  (LEVEL[2] + LEVEL[1] + LEVEL[0]) * 100, \"%\")\n",
        "print(\"Numbre of Under Graduate\", LEVEL[0])\n",
        "print(\"Numbre of Post Graduate\", LEVEL[1])\n",
        "print(\"Numbre of Other \", LEVEL[2])"
      ]
    },
    {
      "cell_type": "code",
      "source": [
        "data = dataset\n",
        " \n",
        "plt.hist(data['Level of Education'])\n",
        " \n",
        "plt.title(\"Histogram for Level of Education\")\n",
        " \n",
        "plt.show()"
      ],
      "metadata": {
        "colab": {
          "base_uri": "https://localhost:8080/",
          "height": 452
        },
        "id": "O7MxD7MGoef-",
        "outputId": "26f9b1a7-4099-4da7-e110-324c3129ce71"
      },
      "execution_count": null,
      "outputs": [
        {
          "output_type": "display_data",
          "data": {
            "text/plain": [
              "<Figure size 640x480 with 1 Axes>"
            ],
            "image/png": "[encoded data removed]"
          },
          "metadata": {}
        }
      ]
    },
    {
      "cell_type": "markdown",
      "source": [
        "## Device type used to attend classes"
      ],
      "metadata": {
        "id": "a-dY8I9mqVWP"
      }
    },
    {
      "cell_type": "code",
      "execution_count": null,
      "metadata": {
        "colab": {
          "base_uri": "https://localhost:8080/"
        },
        "id": "DD9hd8TPylIJ",
        "outputId": "b9246464-3c81-4655-fbb5-ad23befcd438"
      },
      "outputs": [
        {
          "output_type": "stream",
          "name": "stdout",
          "text": [
            "Device type used to attend classes :\n",
            "Laptop :  65.05324298160697 %\n",
            "Mobile :  32.33301064859632 %\n",
            "Rich  :  2.6137463697967087 %\n",
            "Numbre of Laptop 672\n",
            "Numbre of Mobile 334\n",
            "Numbre of Rich  27\n"
          ]
        }
      ],
      "source": [
        "print(\"Device type used to attend classes :\")\n",
        "DEVICE = dataset['Device type used to attend classes'].value_counts()\n",
        "print(\"Laptop : \", DEVICE[0] / (DEVICE[2] + DEVICE[1] + DEVICE[0]) * 100, \"%\")\n",
        "print(\"Mobile : \", DEVICE[1] /  (DEVICE[2] + DEVICE[1] + DEVICE[0]) * 100, \"%\")\n",
        "print(\"Rich  : \", DEVICE[2] /  (DEVICE[2] + DEVICE[1] + DEVICE[0]) * 100, \"%\")\n",
        "print(\"Numbre of Laptop\", DEVICE[0])\n",
        "print(\"Numbre of Mobile\", DEVICE[1])\n",
        "print(\"Numbre of Rich \", DEVICE[2])"
      ]
    },
    {
      "cell_type": "code",
      "source": [
        "data = dataset\n",
        " \n",
        "plt.hist(data['Device type used to attend classes'])\n",
        " \n",
        "plt.title(\"Histogram for Device type used to attend classes\")\n",
        " \n",
        "plt.show()"
      ],
      "metadata": {
        "colab": {
          "base_uri": "https://localhost:8080/",
          "height": 452
        },
        "id": "FwYrWRh9onpk",
        "outputId": "df7a704e-4232-4724-8436-51fa266405e9"
      },
      "execution_count": null,
      "outputs": [
        {
          "output_type": "display_data",
          "data": {
            "text/plain": [
              "<Figure size 640x480 with 1 Axes>"
            ],
            "image/png": "[encoded data removed]"
          },
          "metadata": {}
        }
      ]
    },
    {
      "cell_type": "markdown",
      "source": [
        "## Economic status"
      ],
      "metadata": {
        "id": "BPFMZryGqcsw"
      }
    },
    {
      "cell_type": "code",
      "execution_count": null,
      "metadata": {
        "colab": {
          "base_uri": "https://localhost:8080/"
        },
        "id": "fFgcgrVVz3_I",
        "outputId": "868da663-a337-4784-cfe7-cdbe8fc80eca"
      },
      "outputs": [
        {
          "output_type": "stream",
          "name": "stdout",
          "text": [
            "Economic status :\n",
            "Middle Class :  92.35237173281703 %\n",
            "Poor :  4.743465634075508 %\n",
            "Desktop  :  2.904162633107454 %\n",
            "Numbre of Middle Class 954\n",
            "Numbre of Poor 49\n",
            "Numbre of Desktop  30\n"
          ]
        }
      ],
      "source": [
        "print(\"Economic status :\")\n",
        "STATUS = dataset['Economic status'].value_counts()\n",
        "print(\"Middle Class : \", STATUS[0] / (STATUS[2] + STATUS[1] + STATUS[0]) * 100, \"%\")\n",
        "print(\"Poor : \", STATUS[1] /  (STATUS[2] + STATUS[1] + STATUS[0]) * 100, \"%\")\n",
        "print(\"Desktop  : \", STATUS[2] /  (STATUS[2] + STATUS[1] + STATUS[0]) * 100, \"%\")\n",
        "print(\"Numbre of Middle Class\", STATUS[0])\n",
        "print(\"Numbre of Poor\", STATUS[1])\n",
        "print(\"Numbre of Desktop \", STATUS[2])"
      ]
    },
    {
      "cell_type": "code",
      "source": [
        "data = dataset\n",
        " \n",
        "plt.hist(data['Economic status'])\n",
        " \n",
        "plt.title(\"Histogram for Economic status\")\n",
        " \n",
        "plt.show()"
      ],
      "metadata": {
        "colab": {
          "base_uri": "https://localhost:8080/",
          "height": 281
        },
        "id": "yFYqKiEXooRn",
        "outputId": "2da69bc7-779f-4fd6-e8aa-3eb42db1b073"
      },
      "execution_count": null,
      "outputs": [
        {
          "output_type": "display_data",
          "data": {
            "text/plain": [
              "<Figure size 432x288 with 1 Axes>"
            ],
            "image/png": "[encoded data removed]"
          },
          "metadata": {
            "needs_background": "light"
          }
        }
      ]
    },
    {
      "cell_type": "markdown",
      "source": [
        "## Are you involved in any sports?"
      ],
      "metadata": {
        "id": "qV8sKAO_qn5i"
      }
    },
    {
      "cell_type": "code",
      "execution_count": null,
      "metadata": {
        "colab": {
          "base_uri": "https://localhost:8080/"
        },
        "id": "E7_CD5yhzQ7k",
        "outputId": "cd97bb50-034d-44ef-9a28-10df2381a18a"
      },
      "outputs": [
        {
          "output_type": "stream",
          "name": "stdout",
          "text": [
            "Are you involved in any sports? :\n",
            "True :  35.81800580832527 %\n",
            "False :  64.18199419167473 %\n",
            "Numbre of True 370\n",
            "Numbre of False 663\n"
          ]
        }
      ],
      "source": [
        "print(\"Are you involved in any sports? :\")\n",
        "SPORT = dataset['Are you involved in any sports?'].value_counts()\n",
        "print(\"True : \", SPORT[1] / (SPORT[1] + SPORT[0]) * 100, \"%\")\n",
        "print(\"False : \", SPORT[0] / (SPORT[1] + SPORT[0]) * 100, \"%\")\n",
        "print(\"Numbre of True\", SPORT[1])\n",
        "print(\"Numbre of False\", SPORT[0])"
      ]
    },
    {
      "cell_type": "code",
      "source": [
        "data = dataset\n",
        " \n",
        "plt.hist(data['Are you involved in any sports?'])\n",
        " \n",
        "plt.title(\"Histogram for Are you involved in any sports?\")\n",
        " \n",
        "plt.show()"
      ],
      "metadata": {
        "colab": {
          "base_uri": "https://localhost:8080/",
          "height": 281
        },
        "id": "Z9KyeZIWpH-8",
        "outputId": "62a91fbf-8f85-4b28-c258-4e9a0eab2999"
      },
      "execution_count": null,
      "outputs": [
        {
          "output_type": "display_data",
          "data": {
            "text/plain": [
              "<Figure size 432x288 with 1 Axes>"
            ],
            "image/png": "[encoded data removed]"
          },
          "metadata": {
            "needs_background": "light"
          }
        }
      ]
    },
    {
      "cell_type": "markdown",
      "source": [
        "## Interested in?"
      ],
      "metadata": {
        "id": "bQxc6Mb1q7mZ"
      }
    },
    {
      "cell_type": "code",
      "execution_count": null,
      "metadata": {
        "colab": {
          "base_uri": "https://localhost:8080/"
        },
        "id": "kkRARhGB0fpd",
        "outputId": "9f91d990-8c77-4855-bce1-8012204457e4"
      },
      "outputs": [
        {
          "output_type": "stream",
          "name": "stdout",
          "text": [
            "Interested in? :\n",
            "Both :  42.497579864472414 %\n",
            "Practical :  33.59148112294289 %\n",
            "Theory  :  23.910939012584706 %\n",
            "Numbre of Both 439\n",
            "Numbre of Practical 347\n",
            "Numbre of Theory  247\n"
          ]
        }
      ],
      "source": [
        "print(\"Interested in? :\")\n",
        "INTER = dataset['Interested in?'].value_counts()\n",
        "print(\"Both : \", INTER[0] / (INTER[2] + INTER[1] + INTER[0]) * 100, \"%\")\n",
        "print(\"Practical : \", INTER[1] /  (INTER[2] + INTER[1] + INTER[0]) * 100, \"%\")\n",
        "print(\"Theory  : \", INTER[2] /  (INTER[2] + INTER[1] + INTER[0]) * 100, \"%\")\n",
        "print(\"Numbre of Both\", INTER[0])\n",
        "print(\"Numbre of Practical\", INTER[1])\n",
        "print(\"Numbre of Theory \", INTER[2])"
      ]
    },
    {
      "cell_type": "code",
      "source": [
        "data = dataset\n",
        " \n",
        "plt.hist(data['Interested in?'])\n",
        " \n",
        "plt.title(\"Histogram for Interested in?\")\n",
        " \n",
        "plt.show()"
      ],
      "metadata": {
        "colab": {
          "base_uri": "https://localhost:8080/",
          "height": 281
        },
        "id": "GQMnyyN_pRAP",
        "outputId": "8c4bc530-20ad-4408-d19b-fd512977b610"
      },
      "execution_count": null,
      "outputs": [
        {
          "output_type": "display_data",
          "data": {
            "text/plain": [
              "<Figure size 432x288 with 1 Axes>"
            ],
            "image/png": "[encoded data removed]"
          },
          "metadata": {
            "needs_background": "light"
          }
        }
      ]
    },
    {
      "cell_type": "markdown",
      "source": [
        "## Your level of satisfaction in Online Education"
      ],
      "metadata": {
        "id": "IT-7ppLOrBqO"
      }
    },
    {
      "cell_type": "code",
      "execution_count": null,
      "metadata": {
        "colab": {
          "base_uri": "https://localhost:8080/"
        },
        "id": "jH15V3ws150o",
        "outputId": "ee608726-699c-49af-8c4a-669d52b9ab75"
      },
      "outputs": [
        {
          "output_type": "stream",
          "name": "stdout",
          "text": [
            "Your level of satisfaction in Online Education :\n",
            "Average :  52.37173281703775 %\n",
            "Good :  24.298160696999034 %\n",
            "Bad  :  23.330106485963213 %\n",
            "Numbre of Average 541\n",
            "Numbre of Good 251\n",
            "Numbre of Bad  241\n"
          ]
        }
      ],
      "source": [
        "print(\"Your level of satisfaction in Online Education :\")\n",
        "ONLINEEDU = dataset['Your level of satisfaction in Online Education'].value_counts()\n",
        "print(\"Average : \", ONLINEEDU[0] / (ONLINEEDU[2] + ONLINEEDU[1] + ONLINEEDU[0]) * 100, \"%\")\n",
        "print(\"Good : \", ONLINEEDU[1] /  (ONLINEEDU[2] + ONLINEEDU[1] + ONLINEEDU[0]) * 100, \"%\")\n",
        "print(\"Bad  : \", ONLINEEDU[2] /  (ONLINEEDU[2] + ONLINEEDU[1] + ONLINEEDU[0]) * 100, \"%\")\n",
        "print(\"Numbre of Average\", ONLINEEDU[0])\n",
        "print(\"Numbre of Good\", ONLINEEDU[1])\n",
        "print(\"Numbre of Bad \", ONLINEEDU[2])"
      ]
    },
    {
      "cell_type": "markdown",
      "source": [
        "# Comparison"
      ],
      "metadata": {
        "id": "2h7zpY98sJdC"
      }
    },
    {
      "cell_type": "code",
      "execution_count": null,
      "metadata": {
        "colab": {
          "base_uri": "https://localhost:8080/"
        },
        "id": "kJOzRzyP26Sp",
        "outputId": "fe7e97e1-0459-4c83-999e-e8f4aa6f2921"
      },
      "outputs": [
        {
          "output_type": "stream",
          "name": "stdout",
          "text": [
            "{'Female_Bad': 71, 'Female_Good': 114, 'Female_Average': 234, 'Male_Bad': 170, 'Male_Good': 137, 'Male_Average': 307}\n"
          ]
        }
      ],
      "source": [
        "Comparison = dataset[['Gender','Your level of satisfaction in Online Education']]\n",
        "\n",
        "Data = {\n",
        "    'Female_Bad' : 0,\n",
        "    'Female_Good' : 0,\n",
        "    'Female_Average' : 0,\n",
        "    'Male_Bad' : 0,\n",
        "    'Male_Good' : 0,\n",
        "    'Male_Average' : 0\n",
        "}\n",
        "\n",
        "for i in range(dataset.count()[0]):\n",
        "  if dataset['Gender'][i] == 'Female':\n",
        "   if dataset['Your level of satisfaction in Online Education'][i] == 'Bad':\n",
        "    Data['Female_Bad'] = Data['Female_Bad'] + 1\n",
        "   elif dataset['Your level of satisfaction in Online Education'][i] == 'Good':\n",
        "    Data['Female_Good'] = Data['Female_Good'] + 1\n",
        "   elif dataset['Your level of satisfaction in Online Education'][i] == 'Average':\n",
        "    Data['Female_Average'] = Data['Female_Average'] + 1\n",
        "  elif dataset['Gender'][i] == 'Male':\n",
        "   if dataset['Your level of satisfaction in Online Education'][i] == 'Bad':\n",
        "    Data['Male_Bad'] = Data['Male_Bad'] + 1\n",
        "   elif dataset['Your level of satisfaction in Online Education'][i] == 'Good':\n",
        "    Data['Male_Good'] = Data['Male_Good'] + 1\n",
        "   elif dataset['Your level of satisfaction in Online Education'][i] == 'Average':\n",
        "    Data['Male_Average'] = Data['Male_Average'] + 1\n",
        "    \n",
        "print(Data)\n",
        "\n"
      ]
    },
    {
      "cell_type": "code",
      "execution_count": null,
      "metadata": {
        "colab": {
          "base_uri": "https://localhost:8080/"
        },
        "id": "TTbhgtrdNOuW",
        "outputId": "3f1b4295-2d81-44d9-e3e9-ad372474468c"
      },
      "outputs": [
        {
          "output_type": "stream",
          "name": "stdout",
          "text": [
            "{'Laptop_Middle Class': 626, 'Laptop_Poor': 18, 'Laptop_Rich': 28, 'Mobile_Middle Class': 301, 'Mobile_Poor': 31, 'Mobile_Rich': 2, 'Desktop_Middle Class': 27, 'Desktop_Poor': 0, 'Desktop_Rich': 0}\n"
          ]
        }
      ],
      "source": [
        "Comparison = dataset[['Device type used to attend classes','Economic status']]\n",
        "\n",
        "Data = {\n",
        "    'Laptop_Middle Class' : 0,\n",
        "    'Laptop_Poor' : 0,\n",
        "    'Laptop_Rich' : 0,\n",
        "    'Mobile_Middle Class' : 0,\n",
        "    'Mobile_Poor' : 0,\n",
        "    'Mobile_Rich' : 0,\n",
        "    'Desktop_Middle Class' : 0,\n",
        "    'Desktop_Poor' : 0,\n",
        "    'Desktop_Rich' : 0\n",
        "}\n",
        "\n",
        "for i in range(dataset.count()[0]):\n",
        "\n",
        "  if dataset['Device type used to attend classes'][i] == 'Laptop':\n",
        "   if dataset['Economic status'][i] == 'Middle Class':\n",
        "    Data['Laptop_Middle Class'] = Data['Laptop_Middle Class'] + 1\n",
        "\n",
        "   elif dataset['Economic status'][i] == 'Poor':\n",
        "    Data['Laptop_Poor'] = Data['Laptop_Poor'] + 1\n",
        "\n",
        "   elif dataset['Economic status'][i] == 'Rich':\n",
        "    Data['Laptop_Rich'] = Data['Laptop_Rich'] + 1\n",
        "\n",
        "\n",
        "  elif dataset['Device type used to attend classes'][i] == 'Mobile':\n",
        "   if dataset['Economic status'][i] == 'Middle Class':\n",
        "    Data['Mobile_Middle Class'] = Data['Mobile_Middle Class'] + 1\n",
        "\n",
        "   elif dataset['Economic status'][i] == 'Poor':\n",
        "    Data['Mobile_Poor'] = Data['Mobile_Poor'] + 1\n",
        "\n",
        "   elif dataset['Economic status'][i] == 'Rich':\n",
        "    Data['Mobile_Rich'] = Data['Mobile_Rich'] + 1\n",
        "\n",
        "\n",
        "  elif dataset['Device type used to attend classes'][i] == 'Desktop':\n",
        "   if dataset['Economic status'][i] == 'Middle Class':\n",
        "    Data['Desktop_Middle Class'] = Data['Desktop_Middle Class'] + 1\n",
        "\n",
        "   elif dataset['Economic status'][i] == 'Poor':\n",
        "    Data['Desktop_Poor'] = Data['Desktop_Poor'] + 1\n",
        "\n",
        "   elif dataset['Economic status'][i] == 'Rich':\n",
        "    Data['Desktop_Rich'] = Data['Desktop_Rich'] + 1\n",
        "    \n",
        "print(Data)"
      ]
    },
    {
      "cell_type": "code",
      "execution_count": null,
      "metadata": {
        "id": "2xH4_7N_VGVa",
        "colab": {
          "base_uri": "https://localhost:8080/"
        },
        "outputId": "24abd7c3-0ca6-4a6b-dc06-4611f4170346"
      },
      "outputs": [
        {
          "output_type": "stream",
          "name": "stdout",
          "text": [
            "{'Female_Bad': 71, 'Female_Good': 114, 'Female_Average': 234, 'Male_Bad': 170, 'Male_Good': 137, 'Male_Average': 307}\n"
          ]
        }
      ],
      "source": [
        "Comparison = dataset[['Gender','Your level of satisfaction in Online Education']]\n",
        "\n",
        "Data = {\n",
        "    'Female_Bad' : 0,\n",
        "    'Female_Good' : 0,\n",
        "    'Female_Average' : 0,\n",
        "    'Male_Bad' : 0,\n",
        "    'Male_Good' : 0,\n",
        "    'Male_Average' : 0\n",
        "}\n",
        "\n",
        "for i in range(dataset.count()[0]):\n",
        "  if dataset['Gender'][i] == 'Female':\n",
        "   if dataset['Your level of satisfaction in Online Education'][i] == 'Bad':\n",
        "    Data['Female_Bad'] = Data['Female_Bad'] + 1\n",
        "   elif dataset['Your level of satisfaction in Online Education'][i] == 'Good':\n",
        "    Data['Female_Good'] = Data['Female_Good'] + 1\n",
        "   elif dataset['Your level of satisfaction in Online Education'][i] == 'Average':\n",
        "    Data['Female_Average'] = Data['Female_Average'] + 1\n",
        "  elif dataset['Gender'][i] == 'Male':\n",
        "   if dataset['Your level of satisfaction in Online Education'][i] == 'Bad':\n",
        "    Data['Male_Bad'] = Data['Male_Bad'] + 1\n",
        "   elif dataset['Your level of satisfaction in Online Education'][i] == 'Good':\n",
        "    Data['Male_Good'] = Data['Male_Good'] + 1\n",
        "   elif dataset['Your level of satisfaction in Online Education'][i] == 'Average':\n",
        "    Data['Male_Average'] = Data['Male_Average'] + 1\n",
        "    \n",
        "print(Data)"
      ]
    },
    {
      "cell_type": "code",
      "source": [
        "Comparison = dataset[['Device type used to attend classes','Study time (Hours)']]\n",
        "\n",
        "Data = {\n",
        "    'phone_avg_hours_of_studying' : 0,\n",
        "    'labtop_avg_hours_of_studying' : 0,\n",
        "    'desketop_avg_hours_of_studying' : 0,\n",
        "}\n",
        "phone_person = 0\n",
        "phone_hours = 0\n",
        "Labtop_person =  0\n",
        "Labtop_hours = 0\n",
        "desktop_person = 0\n",
        "desktop_hour = 0\n",
        "for i in range(dataset.count()[0]):\n",
        "\n",
        "  if dataset['Device type used to attend classes'][i] == 'Mobile':\n",
        "    phone_hours = phone_hours + dataset['Study time (Hours)'][i]\n",
        "    phone_person = phone_person + 1\n",
        "    Data['phone_avg_hours_of_studying'] = phone_hours / phone_person\n",
        "  elif dataset['Device type used to attend classes'][i] == 'Laptop':\n",
        "    Labtop_hours = Labtop_hours + dataset['Study time (Hours)'][i]\n",
        "    Labtop_person = Labtop_person + 1\n",
        "    Data['labtop_avg_hours_of_studying'] = Labtop_hours / Labtop_person\n",
        "  elif dataset['Device type used to attend classes'][i] == 'Desktop':\n",
        "    desktop_hour = desktop_hour + dataset['Study time (Hours)'][i]\n",
        "    desktop_person = desktop_person + 1\n",
        "    Data['desketop_avg_hours_of_studying'] = desktop_hour / desktop_person\n",
        "\n",
        "\n",
        "\n",
        "print(Data)"
      ],
      "metadata": {
        "colab": {
          "base_uri": "https://localhost:8080/"
        },
        "id": "VBNsM0hT-Isr",
        "outputId": "e41a3a34-8856-47a1-a402-ba36efcd43b3"
      },
      "execution_count": null,
      "outputs": [
        {
          "output_type": "stream",
          "name": "stdout",
          "text": [
            "{'phone_avg_hours_of_studying': 4.212574850299402, 'labtop_avg_hours_of_studying': 4.3913690476190474, 'desketop_avg_hours_of_studying': 4.074074074074074}\n"
          ]
        }
      ]
    },
    {
      "cell_type": "code",
      "source": [
        "X = dataset.iloc[:,:-1].values\n",
        "y = dataset.iloc[:,-1].values"
      ],
      "metadata": {
        "id": "c1-i1OwEm8RM"
      },
      "execution_count": null,
      "outputs": []
    },
    {
      "cell_type": "code",
      "source": [
        "np.unique(X[:,0])\n",
        "ct = ColumnTransformer(transformers=[(\"encoder\",OneHotEncoder(),[0])],remainder=\"passthrough\")\n",
        "X = np.array(ct.fit_transform(X))\n",
        "X=X[:,1:]\n",
        "\n",
        "np.unique(X[:,1])\n",
        "ct = ColumnTransformer(transformers=[(\"encoder\",OneHotEncoder(),[1])],remainder=\"passthrough\")\n",
        "X = np.array(ct.fit_transform(X))\n",
        "X=X[:,1:]\n",
        "\n",
        "np.unique(X[:,2])\n",
        "ct = ColumnTransformer(transformers=[(\"encoder\",OneHotEncoder(),[2])],remainder=\"passthrough\")\n",
        "X = np.array(ct.fit_transform(X))\n",
        "X=X[:,1:]\n",
        "\n",
        "np.unique(X[:,6])\n",
        "ct = ColumnTransformer(transformers=[(\"encoder\",OneHotEncoder(),[6])],remainder=\"passthrough\")\n",
        "X = np.array(ct.fit_transform(X))\n",
        "X=X[:,1:]\n",
        "\n",
        "np.unique(X[:,8])\n",
        "ct = ColumnTransformer(transformers=[(\"encoder\",OneHotEncoder(),[8])],remainder=\"passthrough\")\n",
        "X = np.array(ct.fit_transform(X))\n",
        "X=X[:,1:]\n",
        "\n",
        "np.unique(X[:,12])\n",
        "ct = ColumnTransformer(transformers=[(\"encoder\",OneHotEncoder(),[12])],remainder=\"passthrough\")\n",
        "X = np.array(ct.fit_transform(X))\n",
        "X=X[:,1:]\n",
        "\n",
        "np.unique(X[:,13])\n",
        "ct = ColumnTransformer(transformers=[(\"encoder\",OneHotEncoder(),[13])],remainder=\"passthrough\")\n",
        "X = np.array(ct.fit_transform(X))\n",
        "X=X[:,1:]\n",
        "\n",
        "np.unique(X[:,17])\n",
        "ct = ColumnTransformer(transformers=[(\"encoder\",OneHotEncoder(),[17])],remainder=\"passthrough\")\n",
        "X = np.array(ct.fit_transform(X))\n",
        "X=X[:,1:]\n",
        "\n",
        "np.unique(X[:,18])\n",
        "ct = ColumnTransformer(transformers=[(\"encoder\",OneHotEncoder(),[18])],remainder=\"passthrough\")\n",
        "X = np.array(ct.fit_transform(X))\n",
        "X=X[:,1:]\n",
        "\n",
        "np.unique(X[:,19])\n",
        "ct = ColumnTransformer(transformers=[(\"encoder\",OneHotEncoder(),[19])],remainder=\"passthrough\")\n",
        "X = np.array(ct.fit_transform(X))\n",
        "X=X[:,1:]\n",
        "\n",
        "np.unique(X[:,20])\n",
        "ct = ColumnTransformer(transformers=[(\"encoder\",OneHotEncoder(),[20])],remainder=\"passthrough\")\n",
        "X = np.array(ct.fit_transform(X))\n",
        "X=X[:,1:]\n",
        "\n",
        "np.unique(X[:,31])\n",
        "ct = ColumnTransformer(transformers=[(\"encoder\",OneHotEncoder(),[31])],remainder=\"passthrough\")\n",
        "X = np.array(ct.fit_transform(X))\n",
        "X=X[:,1:]"
      ],
      "metadata": {
        "id": "9C2hxOho0PiM"
      },
      "execution_count": null,
      "outputs": []
    },
    {
      "cell_type": "code",
      "source": [
        "le = LabelEncoder()\n",
        "y = le.fit_transform(y)"
      ],
      "metadata": {
        "id": "VEq_dRj83Jxl"
      },
      "execution_count": null,
      "outputs": []
    },
    {
      "cell_type": "code",
      "source": [
        "X_train,X_test,y_train,y_test = train_test_split(X,y, test_size = 0.15,random_state=94)\n",
        "sc = StandardScaler()\n",
        "X_train = sc.fit_transform(X_train)\n",
        "X_test = sc.transform(X_test)\n",
        "LR = LogisticRegression()\n",
        "LR.fit(X_train,y_train)\n",
        "y_pred_LR = LR.predict(X_test)\n",
        "cm = confusion_matrix(y_test, y_pred_LR)\n",
        "print(\"confusion matrix: \\n\",cm)\n",
        "print(\"Accuracy:\", LR.score( X_test, y_test))"
      ],
      "metadata": {
        "colab": {
          "base_uri": "https://localhost:8080/"
        },
        "id": "_6rjWJjX0Rbt",
        "outputId": "e5491a77-ff8e-4a56-cd4b-1db532294bce"
      },
      "execution_count": 65,
      "outputs": [
        {
          "output_type": "stream",
          "name": "stdout",
          "text": [
            "confusion matrix: \n",
            " [[75 11  4]\n",
            " [13 17  1]\n",
            " [18  1 15]]\n",
            "Accuracy: 0.6903225806451613\n"
          ]
        }
      ]
    },
    {
      "cell_type": "code",
      "source": [
        "X_opt = np.array(X,dtype=float)\n",
        "for i in range(len(X_opt[0])):    \n",
        "    R_ols =sm.OLS(endog=y,exog=X_opt).fit() \n",
        "    pvalues = list(R_ols.pvalues)\n",
        "    if(max(pvalues)>0.5):\n",
        "        e=pvalues.index(max(pvalues)) \n",
        "        X_opt = np.delete(X_opt,e,axis=1)\n",
        "    else : break\n",
        "\n",
        "X_train_opt , X_test_opt , y_train , y_test = train_test_split(X_opt,y,test_size=0.15,random_state=94)\n",
        "LR2 = LogisticRegression()\n",
        "LR2.fit(X_train_opt, y_train)\n",
        "y_pred = LR2.predict(X_test_opt)\n",
        "cm2 = confusion_matrix(y_test, y_pred)\n",
        "print(\"confusion matrix: \\n\", cm2)\n",
        "print(\"Accuracy:\",LR2.score(X_test_opt, y_test))\n"
      ],
      "metadata": {
        "colab": {
          "base_uri": "https://localhost:8080/"
        },
        "id": "mToABgxw3TPt",
        "outputId": "518edbdc-d5d9-42ba-b600-f4be45742cb7"
      },
      "execution_count": 66,
      "outputs": [
        {
          "output_type": "stream",
          "name": "stdout",
          "text": [
            "confusion matrix: \n",
            " [[84  6  0]\n",
            " [13 18  0]\n",
            " [18  1 15]]\n",
            "Accuracy: 0.7548387096774194\n"
          ]
        },
        {
          "output_type": "stream",
          "name": "stderr",
          "text": [
            "/usr/local/lib/python3.7/dist-packages/sklearn/linear_model/_logistic.py:818: ConvergenceWarning: lbfgs failed to converge (status=1):\n",
            "STOP: TOTAL NO. of ITERATIONS REACHED LIMIT.\n",
            "\n",
            "Increase the number of iterations (max_iter) or scale the data as shown in:\n",
            "    https://scikit-learn.org/stable/modules/preprocessing.html\n",
            "Please also refer to the documentation for alternative solver options:\n",
            "    https://scikit-learn.org/stable/modules/linear_model.html#logistic-regression\n",
            "  extra_warning_msg=_LOGISTIC_SOLVER_CONVERGENCE_MSG,\n"
          ]
        }
      ]
    }
  ],
  "metadata": {
    "colab": {
      "name": "Untitled1.ipynb",
      "provenance": [],
      "collapsed_sections": []
    },
    "kernelspec": {
      "display_name": "Python 3",
      "name": "python3"
    },
    "language_info": {
      "name": "python"
    }
  },
  "nbformat": 4,
  "nbformat_minor": 0
}